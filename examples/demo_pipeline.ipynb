{
 "cells": [
  {
   "cell_type": "markdown",
   "id": "2ddc0201",
   "metadata": {},
   "source": [
    "Instantiate libraries"
   ]
  },
  {
   "cell_type": "code",
   "execution_count": 3,
   "id": "3582d04c",
   "metadata": {},
   "outputs": [],
   "source": [
    "# Add rooth path\n",
    "import sys, os\n",
    "root_path = os.path.abspath(os.path.join(\"..\"))\n",
    "if root_path not in sys.path:\n",
    "    sys.path.append(root_path)\n",
    "\n",
    "# Import retrievers\n",
    "from retrieval.retrievers.filter_retriever import FilterRetriever \n",
    "from retrieval.retrievers.adaptative_retriever import AdaptativeRetriever\n",
    "from retrieval.retrievers.alignment_retriever import AlignmentRetriever \n",
    "from retrieval.retrievers.vanila_retriever import VanilaRetriever \n",
    "\n",
    "# Import generation modules\n",
    "from generation.summarization import Summarization\n",
    "from generation.generator import Generation"
   ]
  },
  {
   "cell_type": "markdown",
   "id": "8937e606",
   "metadata": {},
   "source": [
    "Instantiate embedding model"
   ]
  },
  {
   "cell_type": "code",
   "execution_count": null,
   "id": "808c0ef5",
   "metadata": {},
   "outputs": [
    {
     "name": "stderr",
     "output_type": "stream",
     "text": [
      "c:\\Users\\mateo.becquart\\Documents\\Travail\\explo-rag-sti\\bleurt-env\\lib\\site-packages\\tqdm\\auto.py:21: TqdmWarning: IProgress not found. Please update jupyter and ipywidgets. See https://ipywidgets.readthedocs.io/en/stable/user_install.html\n",
      "  from .autonotebook import tqdm as notebook_tqdm\n"
     ]
    },
    {
     "name": "stdout",
     "output_type": "stream",
     "text": [
      "WARNING:tensorflow:From c:\\Users\\mateo.becquart\\Documents\\Travail\\explo-rag-sti\\bleurt-env\\lib\\site-packages\\tf_keras\\src\\losses.py:2976: The name tf.losses.sparse_softmax_cross_entropy is deprecated. Please use tf.compat.v1.losses.sparse_softmax_cross_entropy instead.\n",
      "\n"
     ]
    },
    {
     "name": "stderr",
     "output_type": "stream",
     "text": [
      "Some weights of the model checkpoint at Alibaba-NLP/gte-multilingual-base were not used when initializing NewModel: ['classifier.bias', 'classifier.weight']\n",
      "- This IS expected if you are initializing NewModel from the checkpoint of a model trained on another task or with another architecture (e.g. initializing a BertForSequenceClassification model from a BertForPreTraining model).\n",
      "- This IS NOT expected if you are initializing NewModel from the checkpoint of a model that you expect to be exactly identical (initializing a BertForSequenceClassification model from a BertForSequenceClassification model).\n"
     ]
    }
   ],
   "source": [
    "from langchain_huggingface import HuggingFaceEmbeddings\n",
    "\n",
    "embedding_model =  HuggingFaceEmbeddings( # Instantiate the embedding method\n",
    "        model_name=\"Alibaba-NLP/gte-multilingual-base\",     \n",
    "        model_kwargs={\"device\" : 'cpu', \"trust_remote_code\" : True},\n",
    "        encode_kwargs={'normalize_embeddings': True} \n",
    "    )"
   ]
  },
  {
   "cell_type": "markdown",
   "id": "9a7faa9d",
   "metadata": {},
   "source": [
    "Instantiate indexes"
   ]
  },
  {
   "cell_type": "code",
   "execution_count": null,
   "id": "1c133871",
   "metadata": {},
   "outputs": [
    {
     "name": "stdout",
     "output_type": "stream",
     "text": [
      "community db 174\n",
      "items db 2520\n",
      "chunked db :  7032\n"
     ]
    }
   ],
   "source": [
    "from langchain_chroma import Chroma\n",
    "from pymongo import MongoClient\n",
    "\n",
    "community_db = Chroma(\n",
    "    collection_name=\"community_db\",\n",
    "    embedding_function=embedding_model,\n",
    "    persist_directory=\"../../data/db/rag\",\n",
    ")\n",
    "\n",
    "items_db = Chroma( # All items in collection\n",
    "    collection_name=\"items_db\",\n",
    "    embedding_function=embedding_model,\n",
    "    persist_directory=\"../../data/db/testbench\",\n",
    ")\n",
    "\n",
    "chunked_db = Chroma( # For fine grained similarity search\n",
    "    collection_name=\"chunked_db\",\n",
    "    embedding_function=embedding_model,\n",
    "    persist_directory=\"../../data/db/chunked\",\n",
    ")\n",
    "\n",
    "client = MongoClient(\"mongodb://192.168.211.96:27017/\")\n",
    "collection = client[\"metadata_db\"][\"metadata_collection\"] # metadata collection, used for the pre filtering step\n",
    "# fr_collection = client[\"metadata_db\"][\"filter_metadata_collection\"]\n",
    "\n",
    "print('community db', community_db._collection.count())\n",
    "print('items db', items_db._collection.count())\n",
    "print(\"chunked db : \", chunked_db._collection.count())"
   ]
  },
  {
   "cell_type": "markdown",
   "id": "06b67e93",
   "metadata": {},
   "source": [
    "Instantiate retriever"
   ]
  },
  {
   "cell_type": "code",
   "execution_count": null,
   "id": "e46a2a4b",
   "metadata": {},
   "outputs": [],
   "source": [
    "from langchain_ollama import OllamaLLM\n",
    "\n",
    "model = 'mistral-small3.1:24b'\n",
    "base_url = 'http://192.168.249.7:11434'\n",
    "llm = OllamaLLM(base_url=base_url, model=model)\n",
    "top_k = 20\n",
    "\n",
    "retriever = AdaptativeRetriever(llm, items_db, community_db, chunked_db, collection, top_k=20)"
   ]
  },
  {
   "cell_type": "markdown",
   "id": "de60b7b0",
   "metadata": {},
   "source": [
    "## Generation"
   ]
  },
  {
   "cell_type": "markdown",
   "id": "6064e282",
   "metadata": {},
   "source": [
    "Retrieve context"
   ]
  },
  {
   "cell_type": "code",
   "execution_count": 11,
   "id": "08352152",
   "metadata": {},
   "outputs": [
    {
     "name": "stdout",
     "output_type": "stream",
     "text": [
      "Extracted filter is : {'name': 'data management'}\n",
      "This area addresses the management of data that can be used by some or all transportation agencies and other organizations to support transportation planning, performance monitoring, safety analysis, and research. Data are collected from detectors and sensors, connected vehicles, and operational data feeds from centers.\n",
      "The services related to the 'data management' domain are : dm01: its data warehouse, dm02: performance monitoring\n"
     ]
    }
   ],
   "source": [
    "question = \"What is the goal of the data management domain ?\"\n",
    "is_diagram, retrieved_context, ids = retriever.retrieve(question)\n",
    "print(retrieved_context)"
   ]
  },
  {
   "cell_type": "markdown",
   "id": "f750824f",
   "metadata": {},
   "source": [
    "Instantiate summary model and generation model"
   ]
  },
  {
   "cell_type": "code",
   "execution_count": null,
   "id": "24ff4af5",
   "metadata": {},
   "outputs": [],
   "source": [
    "summarizer = Summarization(llm)\n",
    "generator = Generation(llm)"
   ]
  },
  {
   "cell_type": "markdown",
   "id": "8686b6bd",
   "metadata": {},
   "source": [
    "Summarize retrieved context to facilitate the generation task"
   ]
  },
  {
   "cell_type": "code",
   "execution_count": null,
   "id": "9267e813",
   "metadata": {},
   "outputs": [
    {
     "name": "stdout",
     "output_type": "stream",
     "text": [
      "The data management domain focuses on handling data for transportation agencies and organizations to support planning, performance monitoring, safety analysis, and research. This data is collected from various sources such as detectors, sensors, connected vehicles, and operational data feeds. Key services in this domain include a data warehouse and performance monitoring.\n"
     ]
    }
   ],
   "source": [
    "summary = summarizer.summarize(question, retrieved_context)\n",
    "print(summary)"
   ]
  },
  {
   "cell_type": "markdown",
   "id": "663ec2bf",
   "metadata": {},
   "source": [
    "Answer user's query using the retrieved-and-summarized context"
   ]
  },
  {
   "cell_type": "code",
   "execution_count": null,
   "id": "fc92512a",
   "metadata": {},
   "outputs": [
    {
     "name": "stdout",
     "output_type": "stream",
     "text": [
      "What is the goal of the data management domain ?\n",
      "The goal of the data management domain is to handle data for transportation agencies and organizations to support planning, performance monitoring, safety analysis, and research. This data is collected from various sources such as detectors, sensors, connected vehicles, and operational data feeds. Key services in this domain include a data warehouse and performance monitoring.\n"
     ]
    }
   ],
   "source": [
    "print(question)\n",
    "response = generator.generate(question, summary)\n",
    "print(response)"
   ]
  }
 ],
 "metadata": {
  "kernelspec": {
   "display_name": "bleurt-env",
   "language": "python",
   "name": "python3"
  },
  "language_info": {
   "codemirror_mode": {
    "name": "ipython",
    "version": 3
   },
   "file_extension": ".py",
   "mimetype": "text/x-python",
   "name": "python",
   "nbconvert_exporter": "python",
   "pygments_lexer": "ipython3",
   "version": "3.10.8"
  }
 },
 "nbformat": 4,
 "nbformat_minor": 5
}
