{
 "cells": [
  {
   "cell_type": "markdown",
   "id": "0c7439d2",
   "metadata": {},
   "source": [
    "Instantiate libraries"
   ]
  },
  {
   "cell_type": "code",
   "execution_count": 1,
   "id": "2c621285",
   "metadata": {},
   "outputs": [
    {
     "name": "stderr",
     "output_type": "stream",
     "text": [
      "c:\\Users\\mateo.becquart\\Documents\\Travail\\explo-rag-sti\\bleurt-env\\lib\\site-packages\\tqdm\\auto.py:21: TqdmWarning: IProgress not found. Please update jupyter and ipywidgets. See https://ipywidgets.readthedocs.io/en/stable/user_install.html\n",
      "  from .autonotebook import tqdm as notebook_tqdm\n"
     ]
    }
   ],
   "source": [
    "# Add rooth path\n",
    "import sys, os\n",
    "root_path = os.path.abspath(os.path.join(\"..\"))\n",
    "if root_path not in sys.path:\n",
    "    sys.path.append(root_path)\n",
    "\n",
    "# Instantiate evaluator\n",
    "from langchain_ollama import OllamaLLM\n",
    "from evaluation.test_bench.scorer import Scorer\n",
    "\n",
    "# bleurt_checkpoint = \"../../data/BLEURT-20\" # Folder containing regression model and tools to run Bleurt scorer\n",
    "bert_model_type = \"bert-base-uncased\"\n",
    "\n",
    "model = 'mistral-small3.1:24b'\n",
    "base_url = 'http://192.168.249.7:11434'\n",
    "llm = OllamaLLM(base_url=base_url, model=model)\n",
    "\n",
    "scorer = Scorer(llm=llm, bert_model_type=bert_model_type)"
   ]
  },
  {
   "cell_type": "markdown",
   "id": "944fbe81",
   "metadata": {},
   "source": [
    "Load questions set and context of reference"
   ]
  },
  {
   "cell_type": "code",
   "execution_count": 2,
   "id": "98992009",
   "metadata": {},
   "outputs": [],
   "source": [
    "questions_path = \"../evaluation/test_set/question_set.json\"\n",
    "ref_path = \"../evaluation/test_set/target_context.json\"\n",
    "\n",
    "questions = scorer.load_questions(questions_path)\n",
    "refs = scorer.load_references(ref_path)"
   ]
  },
  {
   "cell_type": "markdown",
   "id": "fa63abe6",
   "metadata": {},
   "source": [
    "Instantiate embedding model"
   ]
  },
  {
   "cell_type": "code",
   "execution_count": 3,
   "id": "9a63ccb2",
   "metadata": {},
   "outputs": [
    {
     "name": "stdout",
     "output_type": "stream",
     "text": [
      "WARNING:tensorflow:From c:\\Users\\mateo.becquart\\Documents\\Travail\\explo-rag-sti\\bleurt-env\\lib\\site-packages\\tf_keras\\src\\losses.py:2976: The name tf.losses.sparse_softmax_cross_entropy is deprecated. Please use tf.compat.v1.losses.sparse_softmax_cross_entropy instead.\n",
      "\n"
     ]
    },
    {
     "name": "stderr",
     "output_type": "stream",
     "text": [
      "Some weights of the model checkpoint at Alibaba-NLP/gte-multilingual-base were not used when initializing NewModel: ['classifier.bias', 'classifier.weight']\n",
      "- This IS expected if you are initializing NewModel from the checkpoint of a model trained on another task or with another architecture (e.g. initializing a BertForSequenceClassification model from a BertForPreTraining model).\n",
      "- This IS NOT expected if you are initializing NewModel from the checkpoint of a model that you expect to be exactly identical (initializing a BertForSequenceClassification model from a BertForSequenceClassification model).\n"
     ]
    }
   ],
   "source": [
    "from langchain_huggingface import HuggingFaceEmbeddings\n",
    "\n",
    "embedding_model =  HuggingFaceEmbeddings( # Instantiate the embedding method\n",
    "        model_name=\"Alibaba-NLP/gte-multilingual-base\",     \n",
    "        model_kwargs={\"device\" : 'cpu', \"trust_remote_code\" : True},\n",
    "        encode_kwargs={'normalize_embeddings': True} \n",
    "    )"
   ]
  },
  {
   "cell_type": "markdown",
   "id": "8f0dd39f",
   "metadata": {},
   "source": [
    "Instantiate databases"
   ]
  },
  {
   "cell_type": "code",
   "execution_count": 4,
   "id": "23844a8c",
   "metadata": {},
   "outputs": [],
   "source": [
    "from langchain_chroma import Chroma\n",
    "from pymongo import MongoClient\n",
    "\n",
    "community_db = Chroma(\n",
    "    collection_name=\"community_db\",\n",
    "    embedding_function=embedding_model,\n",
    "    persist_directory=\"../../data/db/rag\",\n",
    ")\n",
    "\n",
    "items_db = Chroma( # All items in collection\n",
    "    collection_name=\"items_db\",\n",
    "    embedding_function=embedding_model,\n",
    "    persist_directory=\"../../data/db/testbench\",\n",
    ")\n",
    "\n",
    "chunked_db = Chroma( # For fine grained similarity search\n",
    "    collection_name=\"chunked_db\",\n",
    "    embedding_function=embedding_model,\n",
    "    persist_directory=\"../../data/db/chunked\",\n",
    ")\n",
    "\n",
    "client = MongoClient(\"mongodb://192.168.211.96:27017/\")\n",
    "collection = client[\"metadata_db\"][\"metadata_collection\"] # metadata collection, used for the pre filtering step"
   ]
  },
  {
   "cell_type": "markdown",
   "id": "d622f6e7",
   "metadata": {},
   "source": [
    "Instantiate retriever method"
   ]
  },
  {
   "cell_type": "code",
   "execution_count": 5,
   "id": "fab87c34",
   "metadata": {},
   "outputs": [],
   "source": [
    "from retrieval.retrievers.adaptative_retriever import AdaptativeRetriever\n",
    "\n",
    "retriever = AdaptativeRetriever(llm, items_db, community_db, chunked_db, collection, top_k=20)"
   ]
  },
  {
   "cell_type": "markdown",
   "id": "41780c77",
   "metadata": {},
   "source": [
    "Query system and retrieve relevant documents"
   ]
  },
  {
   "cell_type": "code",
   "execution_count": 6,
   "id": "6020e8f3",
   "metadata": {},
   "outputs": [
    {
     "name": "stdout",
     "output_type": "stream",
     "text": [
      "What are the key services required for managing commercial vehicle operations?\n"
     ]
    }
   ],
   "source": [
    "id = 10\n",
    "question = questions[id]\n",
    "target = refs[id]\n",
    "print(question)"
   ]
  },
  {
   "cell_type": "code",
   "execution_count": 7,
   "id": "570300a2",
   "metadata": {},
   "outputs": [
    {
     "name": "stdout",
     "output_type": "stream",
     "text": [
      "Extracted filter is : {'item type': 'service', 'community': 'commercial vehicle operations'}\n",
      "Commercial Vehicle Administration needs to be able to perform electronic clearance of commercial vehicle credentials and safety records of a commercial vehicle and its driver in order to maintain the smooth flow of goods through its roadways.\n",
      "\tCommercial Vehicle Administration needs to be able to inform the appropriate parties of issues dealing with the clearance of a commercial vehicle or its driver in order to maintain the smooth flow of goods through its roadways..\n",
      "The 'cvo03: electronic clearance' service has 5 needs, each one linked to functional objects and some of their requirements. The needs are the following : \n",
      "\t Commercial Vehicle Administration needs to be able to determine the weight and other characteristics of commercial vehicles operating on its roadways as part of the clearance process.\n",
      "\tCommercial Vehicle Administration needs to collect and maintain electronic records of commercial vehicles and drivers operating on its roadways in order to support efficient clearance operations.\n",
      "\tCommercial Vehicle Administration needs to be able to coordinate electronic credentials and safety records with other commercial vehicle administration agencies concerning commercial vehicles and drivers operating on its roadways in order to support efficient clearance operations.\n",
      "-----\n",
      "The 'cvo07: roadside cvo safety' service has 4 needs, each one linked to functional objects and some of their requirements. The needs are the following : \n",
      "\t Commercial Vehicle Administration needs to be able to manage safety inspections for commercial vehicles using electronic communications and automated sensors in order to provide safer highways.\n",
      "\tCommercial Vehicle Administration needs to exchange safety inspection reports, accident data, citations, credentials, and other data with Fleet and Freight Management.\n",
      "\tCommercial Vehicle Management needs to issue safety inspection reports for trucks and share them with the field, the trucks, the carrier, and other commercial vehicle management entities in order to promote safe movement of goods.\n",
      "\tCommercial Vehicle Management needs to be able to securely exchange information on violators with the appropriate authorities and affected fleet managers..\n",
      "-----\n",
      "The physical objects related to the 'cvo05: commercial vehicle parking' service are : Commercial Vehicle Driver, Commercial Vehicle OBE, Fleet and Freight Management Center, Fleet-Freight Manager, ITS Roadway Equipment, Parking Area Equipment, Parking Management Center, Parking Manager, Parking Operator, Personal Information Device, Traffic Management Center, Transportation Information Center. The functional objects are : CV On-Board Travel Information, Freight Administration and Management, Parking Area Management, Parking Coordination, Personal Interactive Traveler Information, Roadway Traffic Information Dissemination, TIC Interactive Traveler Information, TMC Traffic Information Dissemination. Finally, the information flows are : commercial vehicle identities, commercial vehicle parking arrival/departure times, cv driver information presentation, cv driver input, cv trip request, driver parking information, driver to fleet request, fleet manager inquiry, fleet status, fleet to driver update, parking area\n",
      "-----\n",
      "The physical objects related to the 'cvo01: carrier operations and fleet management' service are : Basic Commercial Vehicle, Commercial Vehicle Administration Center, Commercial Vehicle Driver, Commercial Vehicle OBE, Fleet and Freight Management Center, Fleet-Freight Manager, Location and Time Data Source, Transportation Information Center. The functional objects are : CV On-Board Safety and Security, CV On-Board Trip Monitoring, Fleet Administration, Fleet Maintenance Management. Finally, the information flows are : commercial vehicle location data, credentials status information, cv driver input, cv driver record, cv driver safety alert, cv driver safety status, cv repair status, driver to fleet request, fleet manager inquiry, fleet status, fleet to driver update, host commercial vehicle status, incident information for public, location and time, on-board safety data, on-board vehicle data, road network conditions, route restrictions, trip log, trip log information\n",
      "-----\n",
      "The 'cvo15: fleet and freight security' service belongs to the 'commercial vehicle operations' area.\n",
      "This service package provides enhanced security for commercial vehicle fleets and freight.  Internal and external alerts and advisories are monitored to identify potential threats to the safety and security of the fleet and freight.  It provides for the planning and tracking of three aspects of commercial vehicle shipments.  For each shipment, the commercial vehicle, the freight equipment, and the commercial vehicle driver are monitored for consistency with the planned assignment.  Any unauthorized changes are determined by the Fleet and Freight Management Center and then the appropriate people and Centers are notified.  As the freight is shipped and tracked, security and public safety agencies may also interrogate the freight container to determine if it has been breached and to identify container contents.  Once a route has been assigned, changes must be coordinated.  Commercial Vehicle Drivers are alerted to any changes in route from the planned route and given an opportunity to justify a rerouting.  Any\n",
      "-----\n",
      "The 'cvo08: smart roadside and virtual wim' service belongs to the 'commercial vehicle operations' area.\n",
      "The 'cvo08: smart roadside and virtual wim' service has 5 needs, each one linked to functional objects and some of their requirements. The needs are the following : \n",
      "\t Commercial Vehicle Administration agencies need to work in conjunction with enforcement agencies to define geographic areas for targeted safety and credentials screening and share that information with commercial fleets and their drivers in order to facilitate smoother and safer operations.\n",
      "\tCommercial Vehicle Administration needs to have a safety screening capability that acquires safety inspection data from commercial vehicles using electronic communications with fleets and with vehicles along the roadside.\n",
      "\tCommercial Vehicle Administration needs to have a vehicle credentialing capability that acquires electronic clearance information (including the commercial vehicle and clearance status) from vehicle as it passes the inspection site and allows exchange of relevant information with center systems.\n",
      "The physical objects related to the 'cvo08: smart roadside and virtual wim' service are : Basic Commercial Vehicle, Commercial Vehicle Administration Center, Commercial Vehicle Check Equipment, Commercial Vehicle Driver, Commercial Vehicle Inspector, Commercial Vehicle OBE, Driver Identification Card, Enforcement Center, Fleet and Freight Management Center, Freight Equipment, Other CV Administration Centers. The functional objects are : CV On-Board Cargo Monitoring, CV On-Board Electronic Screening Support, CV On-Board Safety and Security, CVAC Credentials and Taxes Administration, CVAC Information Exchange, CVAC Safety and Security Administration, CVCE Citation and Accident Electronic Recording, CVCE Electronic Screening, CVCE Safety and Security Inspection, CVCE Weigh-In-Motion, Fleet Administration. Finally, the information flows are : citation, commercial vehicle permit information, commercial vehicle violation notification, credentials information, credentials status information, cv driver credential,\n",
      "Commercial Vehicle Administration needs to measure the weight or dimensions of commercial vehicles while moving at mainline speeds in order to monitor and enforce weight or dimension restrictions.\n",
      "\tCommercial Vehicle Management needs to know when a certain area has been identified as an area of focus or trigger areas by enforcement in order to inform the appropriate systems and stakeholders..\n",
      "-----\n",
      "This service package provides the ability for Fleet and Freight Management to detect when an unauthorized commercial vehicle driver attempts to drive their vehicle based on stored driver identity information.  If an unauthorized driver has been detected, Fleet and Freight Management can activate commands to safely disable the commercial vehicle.  Alarms can also be sent to emergency management to inform them of a potential commercial vehicle hijacking or theft and potential hazardous situation.  In addition, Emergency Management can request Fleet and Freight Management to disable a specific vehicle in their fleet.\n",
      "The 'cvo14: cv driver security authentication' service belongs to the 'commercial vehicle operations' area.\n",
      "-----\n",
      "The 'cvo04: cv administrative processes' service has 4 needs, each one linked to functional objects and some of their requirements. The needs are the following : \n",
      "\t Commercial Vehicle Administration needs to be able to issue credentials to commercial vehicle carriers or Fleet and Freight Management in order to reduce an agency's and a carrier's paperwork burden.\n",
      "\tCommercial Vehicle Administration needs to exchange safety and credentials, fuel, and mileage tax information with other commercial vehicle administrations to support electronic credentialing.\n",
      "\tCommercial Vehicle Administration needs to be able to exchange hazardous materials (HAZMAT) route restrictions with other jurisdictions and Fleet and Freight Management in order to maintain safe use of the roadways.\n",
      "\tFleet and Freight Management need to be able verify the contents and accuracy of the records maintained by Commercial Vehicle Administration concerning its operations..\n",
      "-----\n",
      "The physical objects related to the 'cvo06: freight signal priority' service are : Basic Commercial Vehicle, Commercial Vehicle Driver, Commercial Vehicle OBE, Connected Vehicle Roadside Equipment, Fleet and Freight Management Center, Intermodal Terminal, ITS Roadway Equipment, Traffic Management Center, Transportation Information Center. The functional objects are : CV On-Board Signal Priority, Freight Administration and Management, Roadway Signal Control, RSE Intersection Management, Terminal Management, TIC Traffic Control Dissemination, TMC Signal Control, Vehicle Basic Safety Communication, Vehicle Intersection Warning. Finally, the information flows are : cv driver information presentation, cv driver input, driver information, driver to fleet request, fleet to driver update, freight transportation status, host commercial vehicle status, intermodal freight event information, intermodal freight traffic information, intersection control status, intersection geometry, intersection management application\n",
      "The 'cvo06: freight signal priority' service has 4 needs, each one linked to functional objects and some of their requirements. The needs are the following : \n",
      "\t Traffic Management needs to collect data from freight facilities and commercial vehicle fleet management in order to support traffic signal system optimization for commercial vehicles.\n",
      "\tTraffic Management needs to process traffic and commercial vehicle data in order to provide commercial vehicle signal priority for the efficient movement of freight.\n",
      "\tTraffic Management needs to communicate with field equipment to provide commercial vehicle signal priority commands to the intersection.\n",
      "\tThe Commercial Vehicle Driver needs to progress through his arterial route safely and efficiently..\n",
      "-----\n",
      "Commercial Vehicle Administration and Border Administration need to provide electronic communications with commercial vehicles to support security inspections and weigh-in-motion detection..\n",
      "-----\n",
      "The 'cvo17: intelligent access program' service has 2 needs, each one linked to functional objects and some of their requirements. The needs are the following : \n",
      "\t Fleet and Freight Management need access to electronic commercial vehicle permits in order to efficiently move goods to their destinations using electronic permits.\n",
      "\tCommercial Vehicle Administration needs to monitor and collect on-board commercial vehicle data including mass and other declarations to support the provision of commercial vehicle permits in order to ensure vehicles are being operated safely on its roadways..\n",
      "The Intelligent Access Program service package enables commercial vehicle operators simplified access to permit operations in exchange for remote compliance monitoring.\n",
      "The 'cvo17: intelligent access program' service belongs to the 'commercial vehicle operations' area. \n",
      "The physical objects related to the 'cvo17: intelligent access program' service are : Commercial Vehicle Administration Center, Commercial Vehicle Driver, Commercial Vehicle OBE, Commercial Vehicle Service Provider Center, Fleet and Freight Management Center. The functional objects are : CV On-Board Access Monitoring, CVOBE-SP Information Exchange, CVOBE-SP Safety and Security Administration, Freight Administration and Management. Finally, the information flows are : combination declarations, commercial vehicle permit, commercial vehicle permit information, cv driver input, driver operations feedback, malfunction report, mass declarations, non-compliance report, on-board vehicle data, request for permit\n",
      "-----\n",
      "Commercial Vehicle Administration needs to be able to request a commercial vehicle to pull in for inspection if the vehicle is determined to be carrying a hazmat load that it is not properly permitted to carry..\n",
      "-----\n",
      "The 'cvo12: hazmat management' service belongs to the 'commercial vehicle operations' area. \n",
      "The physical objects related to the 'cvo12: hazmat management' service are : Commercial Vehicle OBE, Emergency Management Center, Fleet and Freight Management Center, Freight Equipment. The functional objects are : CV On-Board Cargo Monitoring, Emergency Commercial Vehicle Response, Freight Administration and Management, Freight Equipment Monitoring. Finally, the information flows are : commercial vehicle location data, freight equipment information, hazmat information, hazmat information request, hazmat notification\n"
     ]
    }
   ],
   "source": [
    "is_diagram, context, ids = retriever.retrieve(question)\n",
    "print(context)"
   ]
  },
  {
   "cell_type": "markdown",
   "id": "ef006d19",
   "metadata": {},
   "source": [
    "Evaluate retrieved context by comparing it with the reference context"
   ]
  },
  {
   "cell_type": "code",
   "execution_count": 8,
   "id": "6ee59002",
   "metadata": {},
   "outputs": [],
   "source": [
    "scores = scorer.evaluate(target, context, question)"
   ]
  },
  {
   "cell_type": "code",
   "execution_count": 9,
   "id": "b059722d",
   "metadata": {},
   "outputs": [
    {
     "name": "stdout",
     "output_type": "stream",
     "text": [
      "bleurt score : not initialize\n",
      "bert score : [0.3, 0.49, 0.39]\n",
      "meteor score : 0.2\n",
      "judge score : {'grade': 0.5, 'explanation': 'The answer addresses some aspects of managing commercial vehicle operations but is incomplete and unclear. It does not list all 22 key services required for managing commercial vehicle operations as specified in the reference answer. Instead, it provides detailed information on specific services (e.g., cvo03: electronic clearance, cvo07: roadside cvo safety, cvo05: commercial vehicle parking) but fails to provide a comprehensive list of all services. The answer is also unclear in its structure and focus, making it difficult to determine the full scope of services involved.'}\n"
     ]
    }
   ],
   "source": [
    "for k, v in scores.items():\n",
    "    print(f\"{k} score : {v}\")"
   ]
  }
 ],
 "metadata": {
  "kernelspec": {
   "display_name": "bleurt-env",
   "language": "python",
   "name": "python3"
  },
  "language_info": {
   "codemirror_mode": {
    "name": "ipython",
    "version": 3
   },
   "file_extension": ".py",
   "mimetype": "text/x-python",
   "name": "python",
   "nbconvert_exporter": "python",
   "pygments_lexer": "ipython3",
   "version": "3.10.8"
  }
 },
 "nbformat": 4,
 "nbformat_minor": 5
}
