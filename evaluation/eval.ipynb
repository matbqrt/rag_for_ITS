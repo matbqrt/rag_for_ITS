{
 "cells": [
  {
   "cell_type": "markdown",
   "id": "f1c9a56f",
   "metadata": {},
   "source": [
    "# Set up"
   ]
  },
  {
   "cell_type": "code",
   "execution_count": null,
   "id": "ffe4ad9d",
   "metadata": {},
   "outputs": [
    {
     "name": "stderr",
     "output_type": "stream",
     "text": [
      "c:\\Users\\mateo.becquart\\Documents\\Travail\\explo-rag-sti\\bleurt-env\\lib\\site-packages\\tqdm\\auto.py:21: TqdmWarning: IProgress not found. Please update jupyter and ipywidgets. See https://ipywidgets.readthedocs.io/en/stable/user_install.html\n",
      "  from .autonotebook import tqdm as notebook_tqdm\n"
     ]
    },
    {
     "name": "stdout",
     "output_type": "stream",
     "text": [
      "WARNING:tensorflow:From c:\\Users\\mateo.becquart\\Documents\\Travail\\explo-rag-sti\\bleurt-env\\lib\\site-packages\\tf_keras\\src\\losses.py:2976: The name tf.losses.sparse_softmax_cross_entropy is deprecated. Please use tf.compat.v1.losses.sparse_softmax_cross_entropy instead.\n",
      "\n"
     ]
    },
    {
     "name": "stderr",
     "output_type": "stream",
     "text": [
      "Some weights of the model checkpoint at Alibaba-NLP/gte-multilingual-base were not used when initializing NewModel: ['classifier.bias', 'classifier.weight']\n",
      "- This IS expected if you are initializing NewModel from the checkpoint of a model trained on another task or with another architecture (e.g. initializing a BertForSequenceClassification model from a BertForPreTraining model).\n",
      "- This IS NOT expected if you are initializing NewModel from the checkpoint of a model that you expect to be exactly identical (initializing a BertForSequenceClassification model from a BertForSequenceClassification model).\n"
     ]
    }
   ],
   "source": [
    "from langchain_ollama import OllamaLLM\n",
    "\n",
    "import sys, os\n",
    "root_path = os.path.abspath(os.path.join(\"..\"))\n",
    "if root_path not in sys.path:\n",
    "    sys.path.append(root_path)\n",
    "    \n",
    "from retrieval.retrievers.adaptative_retriever import AdaptativeRetriever\n",
    "from generation.summarization import Summarization\n",
    "from generation.generator import Generation\n",
    "from evaluation.test_bench.scorer import Scorer\n",
    "\n",
    "# Instantiate embedding model\n",
    "from langchain_huggingface import HuggingFaceEmbeddings\n",
    "embedding_model =  HuggingFaceEmbeddings( # Instantiate the embedding method\n",
    "        model_name=\"Alibaba-NLP/gte-multilingual-base\",     \n",
    "        model_kwargs={\"device\" : 'cpu', \"trust_remote_code\" : True},\n",
    "        encode_kwargs={'normalize_embeddings': True} \n",
    "    )"
   ]
  },
  {
   "cell_type": "code",
   "execution_count": 3,
   "id": "4a91d57c",
   "metadata": {},
   "outputs": [
    {
     "name": "stdout",
     "output_type": "stream",
     "text": [
      "community db 174\n",
      "items db 2520\n",
      "chunked db :  7032\n"
     ]
    }
   ],
   "source": [
    "from langchain_chroma import Chroma\n",
    "from pymongo import MongoClient\n",
    "community_db = Chroma(\n",
    "    collection_name=\"community_db\",\n",
    "    embedding_function=embedding_model,\n",
    "    persist_directory=\"../../data/db/rag\",\n",
    ")\n",
    "items_db = Chroma( # All items in collection\n",
    "    collection_name=\"items_db\",\n",
    "    embedding_function=embedding_model,\n",
    "    persist_directory=\"../../data/db/testbench\",\n",
    ")\n",
    "chunked_db = Chroma( # For fine grained similarity search\n",
    "    collection_name=\"chunked_db\",\n",
    "    embedding_function=embedding_model,\n",
    "    persist_directory=\"../../data/db/chunked\",\n",
    ")\n",
    "\n",
    "client = MongoClient(\"mongodb://192.168.211.96:27017/\")\n",
    "collection = client[\"metadata_db\"][\"metadata_collection\"] # metadata collection, used for the pre filtering step\n",
    "fr_collection = client[\"metadata_db\"][\"filter_metadata_collection\"]\n",
    "\n",
    "model = 'mistral-small3.1:24b'\n",
    "base_url = 'http://192.168.249.7:11434'\n",
    "llm = OllamaLLM(base_url=base_url, model=model)\n",
    "top_k = 20\n",
    "bleurt_checkpoint = \"../../data/BLEURT-20\"\n",
    "bert_model_type = \"bert-base-uncased\"\n",
    "\n",
    "print('community db', community_db._collection.count())\n",
    "print('items db', items_db._collection.count())\n",
    "print(\"chunked db : \", chunked_db._collection.count())"
   ]
  },
  {
   "cell_type": "code",
   "execution_count": 4,
   "id": "0a3e6298",
   "metadata": {},
   "outputs": [
    {
     "name": "stdout",
     "output_type": "stream",
     "text": [
      "WARNING:tensorflow:From c:\\Users\\mateo.becquart\\Documents\\Travail\\explo-rag-sti\\bleurt-env\\lib\\site-packages\\bleurt\\score.py:160: The name tf.logging.info is deprecated. Please use tf.compat.v1.logging.info instead.\n",
      "\n",
      "INFO:tensorflow:Reading checkpoint ../../data/BLEURT-20.\n",
      "INFO:tensorflow:Config file found, reading.\n",
      "INFO:tensorflow:Will load checkpoint BLEURT-20\n",
      "INFO:tensorflow:Loads full paths and checks that files exists.\n",
      "INFO:tensorflow:... name:BLEURT-20\n",
      "INFO:tensorflow:... bert_config_file:bert_config.json\n",
      "INFO:tensorflow:... max_seq_length:512\n",
      "INFO:tensorflow:... vocab_file:None\n",
      "INFO:tensorflow:... do_lower_case:None\n",
      "INFO:tensorflow:... sp_model:sent_piece\n",
      "INFO:tensorflow:... dynamic_seq_length:True\n",
      "INFO:tensorflow:Creating BLEURT scorer.\n",
      "INFO:tensorflow:Creating SentencePiece tokenizer.\n",
      "INFO:tensorflow:Creating SentencePiece tokenizer.\n",
      "INFO:tensorflow:Will load model: ../../data/BLEURT-20\\sent_piece.model.\n",
      "INFO:tensorflow:SentencePiece tokenizer created.\n",
      "INFO:tensorflow:Creating Eager Mode predictor.\n",
      "INFO:tensorflow:Loading model.\n",
      "INFO:tensorflow:BLEURT initialized.\n"
     ]
    },
    {
     "name": "stderr",
     "output_type": "stream",
     "text": [
      "INFO:tensorflow:BLEURT initialized.\n"
     ]
    }
   ],
   "source": [
    "retriever = AdaptativeRetriever(llm, items_db, community_db, chunked_db, collection, top_k=20)\n",
    "summarizer = Summarization(llm)\n",
    "generator = Generation(llm)\n",
    "scorer = Scorer(bleurt_checkpoint=bleurt_checkpoint, llm=llm, bert_model_type=bert_model_type)"
   ]
  },
  {
   "cell_type": "code",
   "execution_count": 5,
   "id": "43c69495",
   "metadata": {},
   "outputs": [],
   "source": [
    "# Load question set and target context\n",
    "questions_path = \"test_set/question_set.json\"\n",
    "ref_path = \"test_set/target_context.json\"\n",
    "\n",
    "questions = scorer.load_questions(questions_path)\n",
    "refs = scorer.load_references(ref_path)"
   ]
  },
  {
   "cell_type": "markdown",
   "id": "64b448c4",
   "metadata": {},
   "source": [
    "# Test"
   ]
  },
  {
   "cell_type": "code",
   "execution_count": 40,
   "id": "4e5ac93e",
   "metadata": {},
   "outputs": [
    {
     "name": "stdout",
     "output_type": "stream",
     "text": [
      "How does the border inspection system communicate with the freight equipment object?\n"
     ]
    }
   ],
   "source": [
    "id = 34\n",
    "question = questions[id]\n",
    "target = refs[id]\n",
    "print(question)"
   ]
  },
  {
   "cell_type": "code",
   "execution_count": 41,
   "id": "b6f010b3",
   "metadata": {},
   "outputs": [
    {
     "name": "stdout",
     "output_type": "stream",
     "text": [
      "Extracted filter is : {'name': 'freight equipment'}\n"
     ]
    }
   ],
   "source": [
    "diag, context, ids = retriever.retrieve(question)\n",
    "summary = summarizer.summarize(question, context)\n",
    "response = generator.generate(question, summary)\n",
    "score = scorer.evaluate(target, response, question)"
   ]
  },
  {
   "cell_type": "code",
   "execution_count": 42,
   "id": "8a392179",
   "metadata": {},
   "outputs": [
    {
     "name": "stdout",
     "output_type": "stream",
     "text": [
      "0.75\n",
      "0.57\n",
      "0.42\n",
      "0.62\n",
      "0.63\n",
      "0.62\n"
     ]
    }
   ],
   "source": [
    "print(score['judge']['grade'])\n",
    "print(score['bleurt'])\n",
    "print(score['meteor'])\n",
    "print(score['bert'][0])\n",
    "print(score['bert'][1])\n",
    "print(score['bert'][2])"
   ]
  },
  {
   "cell_type": "code",
   "execution_count": null,
   "id": "fd18264f",
   "metadata": {},
   "outputs": [
    {
     "name": "stdout",
     "output_type": "stream",
     "text": [
      "question 0 : What are the elements covered by the sustainable travel area?\n",
      "Extracted filter is : {'name': 'sustainable travel'}\n",
      "----------------------------------------------------------------------------------------------------\n",
      "question 1 : What does the weather domain encompass?\n",
      "Extracted filter is : {'name': 'weather'}\n",
      "----------------------------------------------------------------------------------------------------\n",
      "question 2 : What does the traveler information and personal mobility area focus on? \n",
      "Extracted filter is : {'name': 'local traveler information'}\n",
      "----------------------------------------------------------------------------------------------------\n",
      "question 3 : Which factors are addressed by the sustainable travel area?\n",
      "Extracted filter is : {'name': 'sustainable travel'}\n",
      "----------------------------------------------------------------------------------------------------\n",
      "question 4 : Describe briefly the roadway maintenance and construction service.\n",
      "Extracted filter is : {'name': 'mc05: roadway maintenance and construction'}\n",
      "----------------------------------------------------------------------------------------------------\n",
      "question 5 : Can you give a short overview of the signal enforcement service? \n",
      "Extracted filter is : {'name': 'tm26: signal enforcement'}\n",
      "----------------------------------------------------------------------------------------------------\n",
      "question 6 : What is the class of the maintenance and construction center personnel?\n",
      "Extracted filter is : {'name': 'maintenance and construction'}\n",
      "----------------------------------------------------------------------------------------------------\n",
      "question 7 : Which security class the commercial vehicle obe object should meet to participate to the fleet and freight security service?\n",
      "Extracted filter is : {'name': 'cvo15: fleet and freight security'}\n",
      "----------------------------------------------------------------------------------------------------\n",
      "question 8 : What are the ITS domains of the reference architecture?\n",
      "Extracted filter is : {'item type': 'domain'}\n",
      "----------------------------------------------------------------------------------------------------\n",
      "question 9 : Name the services involved in the commercial vehicle operations area.\n",
      "Extracted filter is : {'item type': 'service', 'community': 'commercial vehicle operations'}\n",
      "----------------------------------------------------------------------------------------------------\n",
      "question 10 : What are the key services required for managing commercial vehicle operations?\n",
      "Extracted filter is : {'item type': 'service', 'community': 'commercial vehicle operations'}\n",
      "----------------------------------------------------------------------------------------------------\n",
      "question 11 : In the commercial vehicle operations sector, what services are commonly utilized?\n",
      "Extracted filter is : {'item type': 'service', 'community': 'commercial vehicle operations'}\n",
      "----------------------------------------------------------------------------------------------------\n",
      "question 12 : Can you list the essential services needed for the weather area?\n",
      "Extracted filter is : {'item type': 'service', 'community': 'weather'}\n",
      "----------------------------------------------------------------------------------------------------\n",
      "question 13 : Can you list the essential services involved in data management?\n",
      "Extracted filter is : {'item type': 'service', 'community': 'data management'}\n",
      "----------------------------------------------------------------------------------------------------\n",
      "question 14 : What are the primary services that support traffic management?\n",
      "Extracted filter is : {'item type': 'service', 'community': 'traffic management'}\n",
      "----------------------------------------------------------------------------------------------------\n",
      "question 15 : What are the information flows associated with the carrier operations and fleet management service?\n",
      "Extracted filter is : {'item type': 'flow', 'community': 'cvo01: carrier operations and fleet management'}\n",
      "----------------------------------------------------------------------------------------------------\n",
      "question 16 : Which processes are related to the ITS roadway equipment object?\n",
      "Extracted filter is : {'item type': 'process'}\n",
      "----------------------------------------------------------------------------------------------------\n",
      "question 17 : What are the key services of the vehicle safety area?\n",
      "Extracted filter is : {'item type': 'service', 'community': 'vehicle safety'}\n",
      "----------------------------------------------------------------------------------------------------\n",
      "question 18 : Name physical objects that belong to the field class.\n",
      "Extracted filter is : {'name': 'its object'}\n",
      "----------------------------------------------------------------------------------------------------\n",
      "question 19 : Is there any ITS service focused on Eco-Driving? If yes, what is it?\n",
      "Extracted filter is : {'name': 'transit center information services'}\n",
      "----------------------------------------------------------------------------------------------------\n",
      "question 20 : Can you name an ITS service that supports Eco-Driving?\n",
      "Extracted filter is : {'name': 'transit center information services'}\n",
      "----------------------------------------------------------------------------------------------------\n",
      "question 21 : How can ITS services assist with Eco-Driving?\n",
      "Extracted filter is : {'item type': 'service'}\n",
      "----------------------------------------------------------------------------------------------------\n",
      "question 22 : Name some ITS services dedicated to traffic.\n",
      "Extracted filter is : {'name': 'transit center information services'}\n",
      "----------------------------------------------------------------------------------------------------\n",
      "question 23 : Do any ITS services offer tools for road use charging?\n",
      "Extracted filter is : {}\n",
      "question 24 : What are the services that are related to sustainable travel?\n",
      "Extracted filter is : {'item type': 'service', 'community': 'sustainable travel'}\n",
      "----------------------------------------------------------------------------------------------------\n",
      "question 25 : Which services contribute to sustainable practices?\n",
      "Extracted filter is : {'item type': 'service'}\n",
      "----------------------------------------------------------------------------------------------------\n",
      "question 26 : Can you list services that support sustainability initiatives?\n",
      "Extracted filter is : {'item type': 'service'}\n",
      "----------------------------------------------------------------------------------------------------\n",
      "question 27 : Can you name service packages that deal with sustainable development?\n",
      "Extracted filter is : {'item type': 'service'}\n",
      "----------------------------------------------------------------------------------------------------\n",
      "question 28 : Describe me the physical diagram of the Freight Drayage Optimization service.\n",
      "Extracted filter is : {'item type': 'diagram', 'community': 'cvo11: freight drayage optimization'}\n",
      "question 29 : Provide a detailed description of the physical diagram for the roadside cvo safety service.\n",
      "Extracted filter is : {'item type': 'diagram', 'community': 'cvo07: roadside cvo safety'}\n",
      "question 30 : Based on the physical diagram of the transit security service, what are its key elements?\n",
      "Extracted filter is : {'name': 'pt05: transit security'}\n",
      "----------------------------------------------------------------------------------------------------\n",
      "question 31 : Which information flow links archived data system with the payment administration center?\n",
      "Extracted filter is : {'item type': 'flow'}\n",
      "----------------------------------------------------------------------------------------------------\n",
      "question 32 : Can you describe the information flow mechanisms that link the following objects : basic vehicle object and light vehicle obe?\n",
      "question 33 : What are the informations flows exchanged between the alerting and advisory system object and the emergency management center?\n",
      "question 34 : How does the border inspection system communicate with the freight equipment object?\n",
      "Extracted filter is : {'name': 'freight equipment'}\n",
      "----------------------------------------------------------------------------------------------------\n"
     ]
    }
   ],
   "source": [
    "scores = {}\n",
    "for i, question in enumerate(questions):\n",
    "    print(f\"question {i} : {question}\")\n",
    "    try:\n",
    "        diag, context, ids = retriever.retrieve(question)\n",
    "        if diag:\n",
    "            continue\n",
    "        else:\n",
    "            summary = summarizer.summarize(question, context)\n",
    "            response = generator.generate(question, summary)\n",
    "            score = scorer.evaluate(refs[i], response, question)\n",
    "            scores[f\"{i}\"] = score\n",
    "    except:\n",
    "        continue\n",
    "    print('--'*50)"
   ]
  },
  {
   "cell_type": "code",
   "execution_count": 15,
   "id": "ac4e6b7a",
   "metadata": {},
   "outputs": [
    {
     "name": "stdout",
     "output_type": "stream",
     "text": [
      "{'0': {'bleurt': 0.62, 'bert': [0.65, 0.39, 0.51], 'meteor': 0.4, 'judge': {'grade': 1.0, 'explanation': 'The answer is highly accurate and addresses the question comprehensively. It includes all the relevant elements covered by the sustainable travel area as mentioned in the reference answer, providing a detailed and effective response.'}}, '1': {'bleurt': 0.79, 'bert': [0.81, 0.8, 0.81], 'meteor': 0.74, 'judge': {'grade': 1.0, 'explanation': 'The answer is highly accurate and relevant. It addresses the question thoroughly by providing the same information as the reference answer, including the definition of the weather domain and the specific services related to it.'}}, '2': {'bleurt': 0.39, 'bert': [0.38, 0.21, 0.29], 'meteor': 0.12, 'judge': {'grade': 0.5, 'explanation': 'The answer is somewhat relevant and provides some accurate information, such as the focus on location-specific traveler information and time-sensitive data. However, it lacks details about multi-modal options, transfers, personal mobility services, and specific services like trip planning and payment. The mention of Border Management Systems is off-topic and not relevant to the question.'}}, '3': {'bleurt': 0.64, 'bert': [0.49, 0.5, 0.5], 'meteor': 0.55, 'judge': {'grade': 1.0, 'explanation': \"The answer is highly accurate, addressing the question comprehensively. It includes all the relevant factors mentioned in the reference answer and provides a detailed list of services related to the 'sustainable travel' domain, which are also accurately listed in the reference answer. The answer is relevant, effective, and matches the ground truth closely.\"}}, '4': {'bleurt': 0.43, 'bert': [0.31, 0.46, 0.38], 'meteor': 0.29, 'judge': {'grade': 0.75, 'explanation': 'The answer addresses the question by providing a detailed description of the roadway maintenance and construction service. It covers key activities such as scheduling maintenance, collecting environmental data, coordinating with traffic management agencies, and monitoring ITS equipment. However, it lacks specific details about some maintenance services mentioned in the reference answer, such as landscape maintenance, hazard removal, routine maintenance activities, and repair of non-ITS equipment. Additionally, it does not mention the reception of environmental conditions information from weather sources to aid in scheduling.'}}, '5': {'bleurt': 0.48, 'bert': [0.35, 0.49, 0.42], 'meteor': 0.3, 'judge': {'grade': 0.75, 'explanation': \"The answer is on-topic and provides accurate information that addresses most of the question. It accurately describes the purpose and implementation of the signal enforcement service, including key components and information flows. However, it does not fully cover the relationship to other services like 'Intersection Safety Warning' and 'Intersection Collision Avoidance,' or the protection of non-vehicle road users such as pedestrians and cyclists, which are mentioned in the reference answer.\"}}, '6': {'bleurt': 0.37, 'bert': [0, 0.14, 0.05], 'meteor': 0.12, 'judge': {'grade': 0.5, 'explanation': \"The answer provides a detailed description of various roles within the maintenance and construction center but does not explicitly state the class of the personnel. The reference answer specifies that the class is 'center,' which is not mentioned in the user's response. Therefore, the answer is unclear and incomplete regarding the specific class of the personnel.\"}}, '7': {'bleurt': 0.36, 'bert': [0.3, 0.22, 0.26], 'meteor': 0.06, 'judge': {'grade': 0.5, 'explanation': \"The answer is on topic and mentions the correct class for the 'Fleet and Freight Security' service package. However, it is incomplete because it does not mention the other service packages and their respective security classes, which are relevant to the question. Additionally, it asserts that the security class should be met or exceeded, which is not explicitly stated in the reference answer and could introduce uncertainty.\"}}, '8': {'bleurt': 0.6, 'bert': [0.18, 0.62, 0.35], 'meteor': 0.45, 'judge': {'grade': 1.0, 'explanation': 'The answer is highly accurate and addresses the question comprehensively. It lists all 12 domains of the reference architecture exactly as specified in the reference answer.'}}, '9': {'bleurt': 0.51, 'bert': [0.7, 0.47, 0.57], 'meteor': 0.32, 'judge': {'grade': 0.75, 'explanation': 'The answer addresses the question by listing several relevant services involved in commercial vehicle operations. However, it is incomplete as it only mentions 13 out of the 22 services listed in the reference answer.'}}, '10': {'bleurt': 0.44, 'bert': [0.66, 0.3, 0.45], 'meteor': 0.19, 'judge': {'grade': 0.75, 'explanation': \"The answer is on topic and provides accurate information, addressing most of the key services required for managing commercial vehicle operations. However, it is incomplete because it does not mention several services listed in the reference answer, such as 'carrier operations and fleet management', 'freight administration', 'commercial vehicle parking', 'freight-specific dynamic travel planning', 'road weather information for freight carriers', 'freight drayage optimization', 'roadside hazmat security detection and mitigation', 'electronic driver logs', 'intelligent access program - weight monitoring', 'intelligent speed compliance', 'international border registration', 'international border electronic clearance', and 'international border coordination'.\"}}, '11': {'bleurt': 0.42, 'bert': [0.43, 0.66, 0.53], 'meteor': 0.37, 'judge': {'grade': 0.75, 'explanation': 'The answer is on topic and addresses most of the question. However, it is incomplete as it only lists 12 out of the 22 services mentioned in the reference answer. Additionally, it provides detailed descriptions of some services, which is not requested in the question.'}}, '12': {'bleurt': 0.49, 'bert': [0.27, 0.54, 0.38], 'meteor': 0.29, 'judge': {'grade': 0.5, 'explanation': 'The answer provides a detailed list of services related to the weather area but does not directly list the four essential services mentioned in the reference answer. Instead, it categorizes various specific services under broader functional objects. This makes the answer unclear and incomplete in addressing the specific question about the essential services needed for the weather area.'}}, '13': {'bleurt': 0.43, 'bert': [0.18, 0.58, 0.34], 'meteor': 0.35, 'judge': {'grade': 1.0, 'explanation': 'The answer is highly accurate and addresses the question completely. It lists the two essential services involved in data management (dm01: its data warehouse, dm02: performance monitoring) and provides detailed functional objects for each service, aligning perfectly with the reference answer.'}}, '14': {'bleurt': 0.48, 'bert': [0.46, 0.61, 0.53], 'meteor': 0.26, 'judge': {'grade': 0.75, 'explanation': 'The answer is on-topic and addresses the question by listing several primary services that support traffic management. However, it is incomplete as it does not list all 26 primary services mentioned in the reference answer.'}}, '15': {'bleurt': 0.54, 'bert': [0.26, 0.66, 0.42], 'meteor': 0.51, 'judge': {'grade': 1.0, 'explanation': 'The answer is highly accurate and addresses the question thoroughly. It lists all the 12 information flows associated with the carrier operations and fleet management service, matching the reference answer completely.'}}, '16': {'bleurt': 0.43, 'bert': [0.68, 0.72, 0.7], 'meteor': 0.25, 'judge': {'grade': 0.75, 'explanation': 'The answer addresses the question by listing several relevant processes related to the ITS roadway equipment object. However, it is incomplete as it only mentions a subset of the 58 processes listed in the reference answer. Additionally, the answer includes some functional objects which were not asked for.'}}, '17': {'bleurt': 0.54, 'bert': [0.49, 0.65, 0.57], 'meteor': 0.44, 'judge': {'grade': 0.75, 'explanation': 'The answer addresses the question and provides accurate information, including 12 of the 19 key services of the vehicle safety area. However, it is incomplete because it omits seven services: vs05: curve speed warning, vs08: queue warning, vs10: restricted lane warnings, vs11: oversize vehicle warning, vs14: cooperative adaptive cruise control, vs18: management of electronic traffic regulations (metr), vs19: vulnerable road user clustering.'}}, '18': {'bleurt': 0.31, 'bert': [0.15, 0.36, 0.24], 'meteor': 0.16, 'judge': {'grade': 0.5, 'explanation': \"The answer addresses the question partially and is unclear. It mentions some objects related to Intelligent Transportation Systems (ITS) but does not specifically mention the 'field class' objects listed in the reference answer. Some objects like 'pathway communications unit' and 'roadside communications unit' are mentioned in both, but the answer is incomplete and lacks specificity regarding the 'field class'.\"}}, '19': {'bleurt': 0.39, 'bert': [0.28, 0.5, 0.38], 'meteor': 0.41, 'judge': {'grade': 0.5, 'explanation': \"The answer is clear and on-topic but the information provided is inaccurate, leading to low confidence. The reference answer indicates that there is an ITS service focused on Eco-Driving, which the user's answer denies.\"}}, '20': {'bleurt': 0.48, 'bert': [0.21, 0.39, 0.29], 'meteor': 0.33, 'judge': {'grade': 0.5, 'explanation': \"the answer is unclear, it doesn't provide any reference to Eco-Driving or any explanation why it is relevant to Eco-Driving\"}}, '21': {'bleurt': 0.54, 'bert': [0.34, 0.58, 0.45], 'meteor': 0.42, 'judge': {'grade': 0.75, 'explanation': 'The answer addresses the question and provides accurate information about how ITS services can assist with eco-driving. It includes relevant mechanisms such as Connected Eco-Driving, Eco-Traffic Signal Timing, Eco-Approach and Departure at Signalized Intersections, Eco-Lanes Management, and Eco-Traffic Metering. However, it does not fully cover the feedback aspect and vehicle-assisted strategies mentioned in the reference answer, making it somewhat incomplete.'}}, '22': {'bleurt': 0.4, 'bert': [0.25, 0.18, 0.21], 'meteor': 0.1, 'judge': {'grade': 0.5, 'explanation': 'The answer is unclear and incomplete. It mentions some general services related to traffic management, but it does not list the specific services mentioned in the reference answer. The terms used in the answer are too vague and do not correspond to the detailed services listed in the reference answer.'}}, '24': {'bleurt': 0.62, 'bert': [0.45, 0.44, 0.45], 'meteor': 0.41, 'judge': {'grade': 0.75, 'explanation': \"The answer is on topic, relevant to the question, and covers most of the services listed in the reference answer. However, it is incomplete as it misses two services: 'roadside lighting' and 'electric charging stations management'.\"}}, '25': {'bleurt': 0.6, 'bert': [0.46, 0.64, 0.54], 'meteor': 0.45, 'judge': {'grade': 1.0, 'explanation': 'The answer is highly accurate and addresses the question completely. It lists all the services mentioned in the reference answer, including their respective codes.'}}, '26': {'bleurt': 0.53, 'bert': [0.38, 0.58, 0.47], 'meteor': 0.36, 'judge': {'grade': 1.0, 'explanation': 'The answer is highly accurate, relevant, and effective. It addresses the question by listing all the relevant services that support sustainability initiatives, providing accurate descriptions for each service, and it matches perfectly the reference answer.'}}, '27': {'bleurt': 0.54, 'bert': [0.42, 0.58, 0.49], 'meteor': 0.36, 'judge': {'grade': 0.75, 'explanation': 'The answer addresses the question and provides accurate information. However, it is incomplete as it does not mention the following services: roadside lighting, electric charging stations management, hov/hot lane management, and eco-approach and departure at signalized intersections.'}}, '30': {'bleurt': 0.41, 'bert': [0.31, 0.43, 0.37], 'meteor': 0.25, 'judge': {'grade': 0.75, 'explanation': 'The answer addresses the question and provides a comprehensive list of elements related to the transit security service. However, it includes additional details that are not explicitly asked for in the question, such as functional objects, information flows, security classes, and service objectives. The key elements listed (physical objects) are relevant and accurate but include more information than necessary, making the response somewhat unclear and incomplete in terms of focusing solely on the key elements as per the question.'}}, '31': {'bleurt': 0.44, 'bert': [0.32, 0.62, 0.45], 'meteor': 0.33, 'judge': {'grade': 0.5, 'explanation': \"The answer provides some relevant information but it is incomplete and includes extraneous details. The key information flow mentioned ('payment archive data') is not explicitly stated in the reference answer, and the additional details about the service package, functional objects, and security ratings are not requested in the question. Therefore, there is low confidence in the accuracy and relevance of the answer.\"}}, '34': {'bleurt': 0.72, 'bert': [0.37, 0.55, 0.45], 'meteor': 0.33, 'judge': {'grade': 1.0, 'explanation': 'The answer is highly accurate and addresses the question effectively. It includes all the relevant information flows mentioned in the reference answer and correctly describes the direction of information transfer between the Border Inspection System and the Freight Equipment object.'}}}\n"
     ]
    }
   ],
   "source": [
    "print(scores)"
   ]
  },
  {
   "cell_type": "code",
   "execution_count": 29,
   "id": "c0cd5e11",
   "metadata": {},
   "outputs": [
    {
     "name": "stdout",
     "output_type": "stream",
     "text": [
      "0\n",
      "{'bleurt': 0.62, 'bert': [0.65, 0.39, 0.51], 'meteor': 0.4, 'judge': {'grade': 1.0, 'explanation': 'The answer is highly accurate and addresses the question comprehensively. It includes all the relevant elements covered by the sustainable travel area as mentioned in the reference answer, providing a detailed and effective response.'}}\n",
      "1\n",
      "{'bleurt': 0.79, 'bert': [0.81, 0.8, 0.81], 'meteor': 0.74, 'judge': {'grade': 1.0, 'explanation': 'The answer is highly accurate and relevant. It addresses the question thoroughly by providing the same information as the reference answer, including the definition of the weather domain and the specific services related to it.'}}\n",
      "2\n",
      "{'bleurt': 0.39, 'bert': [0.38, 0.21, 0.29], 'meteor': 0.12, 'judge': {'grade': 0.5, 'explanation': 'The answer is somewhat relevant and provides some accurate information, such as the focus on location-specific traveler information and time-sensitive data. However, it lacks details about multi-modal options, transfers, personal mobility services, and specific services like trip planning and payment. The mention of Border Management Systems is off-topic and not relevant to the question.'}}\n",
      "3\n",
      "{'bleurt': 0.64, 'bert': [0.49, 0.5, 0.5], 'meteor': 0.55, 'judge': {'grade': 1.0, 'explanation': \"The answer is highly accurate, addressing the question comprehensively. It includes all the relevant factors mentioned in the reference answer and provides a detailed list of services related to the 'sustainable travel' domain, which are also accurately listed in the reference answer. The answer is relevant, effective, and matches the ground truth closely.\"}}\n",
      "4\n",
      "{'bleurt': 0.43, 'bert': [0.31, 0.46, 0.38], 'meteor': 0.29, 'judge': {'grade': 0.75, 'explanation': 'The answer addresses the question by providing a detailed description of the roadway maintenance and construction service. It covers key activities such as scheduling maintenance, collecting environmental data, coordinating with traffic management agencies, and monitoring ITS equipment. However, it lacks specific details about some maintenance services mentioned in the reference answer, such as landscape maintenance, hazard removal, routine maintenance activities, and repair of non-ITS equipment. Additionally, it does not mention the reception of environmental conditions information from weather sources to aid in scheduling.'}}\n",
      "5\n",
      "{'bleurt': 0.48, 'bert': [0.35, 0.49, 0.42], 'meteor': 0.3, 'judge': {'grade': 0.75, 'explanation': \"The answer is on-topic and provides accurate information that addresses most of the question. It accurately describes the purpose and implementation of the signal enforcement service, including key components and information flows. However, it does not fully cover the relationship to other services like 'Intersection Safety Warning' and 'Intersection Collision Avoidance,' or the protection of non-vehicle road users such as pedestrians and cyclists, which are mentioned in the reference answer.\"}}\n",
      "6\n",
      "{'bleurt': 0.37, 'bert': [0, 0.14, 0.05], 'meteor': 0.12, 'judge': {'grade': 0.5, 'explanation': \"The answer provides a detailed description of various roles within the maintenance and construction center but does not explicitly state the class of the personnel. The reference answer specifies that the class is 'center,' which is not mentioned in the user's response. Therefore, the answer is unclear and incomplete regarding the specific class of the personnel.\"}}\n",
      "7\n",
      "{'bleurt': 0.36, 'bert': [0.3, 0.22, 0.26], 'meteor': 0.06, 'judge': {'grade': 0.5, 'explanation': \"The answer is on topic and mentions the correct class for the 'Fleet and Freight Security' service package. However, it is incomplete because it does not mention the other service packages and their respective security classes, which are relevant to the question. Additionally, it asserts that the security class should be met or exceeded, which is not explicitly stated in the reference answer and could introduce uncertainty.\"}}\n",
      "8\n",
      "{'bleurt': 0.6, 'bert': [0.18, 0.62, 0.35], 'meteor': 0.45, 'judge': {'grade': 1.0, 'explanation': 'The answer is highly accurate and addresses the question comprehensively. It lists all 12 domains of the reference architecture exactly as specified in the reference answer.'}}\n",
      "9\n",
      "{'bleurt': 0.51, 'bert': [0.7, 0.47, 0.57], 'meteor': 0.32, 'judge': {'grade': 0.75, 'explanation': 'The answer addresses the question by listing several relevant services involved in commercial vehicle operations. However, it is incomplete as it only mentions 13 out of the 22 services listed in the reference answer.'}}\n",
      "10\n",
      "{'bleurt': 0.44, 'bert': [0.66, 0.3, 0.45], 'meteor': 0.19, 'judge': {'grade': 0.75, 'explanation': \"The answer is on topic and provides accurate information, addressing most of the key services required for managing commercial vehicle operations. However, it is incomplete because it does not mention several services listed in the reference answer, such as 'carrier operations and fleet management', 'freight administration', 'commercial vehicle parking', 'freight-specific dynamic travel planning', 'road weather information for freight carriers', 'freight drayage optimization', 'roadside hazmat security detection and mitigation', 'electronic driver logs', 'intelligent access program - weight monitoring', 'intelligent speed compliance', 'international border registration', 'international border electronic clearance', and 'international border coordination'.\"}}\n",
      "11\n",
      "{'bleurt': 0.42, 'bert': [0.43, 0.66, 0.53], 'meteor': 0.37, 'judge': {'grade': 0.75, 'explanation': 'The answer is on topic and addresses most of the question. However, it is incomplete as it only lists 12 out of the 22 services mentioned in the reference answer. Additionally, it provides detailed descriptions of some services, which is not requested in the question.'}}\n",
      "12\n",
      "{'bleurt': 0.49, 'bert': [0.27, 0.54, 0.38], 'meteor': 0.29, 'judge': {'grade': 0.5, 'explanation': 'The answer provides a detailed list of services related to the weather area but does not directly list the four essential services mentioned in the reference answer. Instead, it categorizes various specific services under broader functional objects. This makes the answer unclear and incomplete in addressing the specific question about the essential services needed for the weather area.'}}\n",
      "13\n",
      "{'bleurt': 0.43, 'bert': [0.18, 0.58, 0.34], 'meteor': 0.35, 'judge': {'grade': 1.0, 'explanation': 'The answer is highly accurate and addresses the question completely. It lists the two essential services involved in data management (dm01: its data warehouse, dm02: performance monitoring) and provides detailed functional objects for each service, aligning perfectly with the reference answer.'}}\n",
      "14\n",
      "{'bleurt': 0.48, 'bert': [0.46, 0.61, 0.53], 'meteor': 0.26, 'judge': {'grade': 0.75, 'explanation': 'The answer is on-topic and addresses the question by listing several primary services that support traffic management. However, it is incomplete as it does not list all 26 primary services mentioned in the reference answer.'}}\n",
      "15\n",
      "{'bleurt': 0.54, 'bert': [0.26, 0.66, 0.42], 'meteor': 0.51, 'judge': {'grade': 1.0, 'explanation': 'The answer is highly accurate and addresses the question thoroughly. It lists all the 12 information flows associated with the carrier operations and fleet management service, matching the reference answer completely.'}}\n",
      "16\n",
      "{'bleurt': 0.43, 'bert': [0.68, 0.72, 0.7], 'meteor': 0.25, 'judge': {'grade': 0.75, 'explanation': 'The answer addresses the question by listing several relevant processes related to the ITS roadway equipment object. However, it is incomplete as it only mentions a subset of the 58 processes listed in the reference answer. Additionally, the answer includes some functional objects which were not asked for.'}}\n",
      "17\n",
      "{'bleurt': 0.54, 'bert': [0.49, 0.65, 0.57], 'meteor': 0.44, 'judge': {'grade': 0.75, 'explanation': 'The answer addresses the question and provides accurate information, including 12 of the 19 key services of the vehicle safety area. However, it is incomplete because it omits seven services: vs05: curve speed warning, vs08: queue warning, vs10: restricted lane warnings, vs11: oversize vehicle warning, vs14: cooperative adaptive cruise control, vs18: management of electronic traffic regulations (metr), vs19: vulnerable road user clustering.'}}\n",
      "18\n",
      "{'bleurt': 0.31, 'bert': [0.15, 0.36, 0.24], 'meteor': 0.16, 'judge': {'grade': 0.5, 'explanation': \"The answer addresses the question partially and is unclear. It mentions some objects related to Intelligent Transportation Systems (ITS) but does not specifically mention the 'field class' objects listed in the reference answer. Some objects like 'pathway communications unit' and 'roadside communications unit' are mentioned in both, but the answer is incomplete and lacks specificity regarding the 'field class'.\"}}\n",
      "19\n",
      "{'bleurt': 0.39, 'bert': [0.28, 0.5, 0.38], 'meteor': 0.41, 'judge': {'grade': 0.5, 'explanation': \"The answer is clear and on-topic but the information provided is inaccurate, leading to low confidence. The reference answer indicates that there is an ITS service focused on Eco-Driving, which the user's answer denies.\"}}\n",
      "20\n",
      "{'bleurt': 0.48, 'bert': [0.21, 0.39, 0.29], 'meteor': 0.33, 'judge': {'grade': 0.5, 'explanation': \"the answer is unclear, it doesn't provide any reference to Eco-Driving or any explanation why it is relevant to Eco-Driving\"}}\n",
      "21\n",
      "{'bleurt': 0.54, 'bert': [0.34, 0.58, 0.45], 'meteor': 0.42, 'judge': {'grade': 0.75, 'explanation': 'The answer addresses the question and provides accurate information about how ITS services can assist with eco-driving. It includes relevant mechanisms such as Connected Eco-Driving, Eco-Traffic Signal Timing, Eco-Approach and Departure at Signalized Intersections, Eco-Lanes Management, and Eco-Traffic Metering. However, it does not fully cover the feedback aspect and vehicle-assisted strategies mentioned in the reference answer, making it somewhat incomplete.'}}\n",
      "22\n",
      "{'bleurt': 0.4, 'bert': [0.25, 0.18, 0.21], 'meteor': 0.1, 'judge': {'grade': 0.5, 'explanation': 'The answer is unclear and incomplete. It mentions some general services related to traffic management, but it does not list the specific services mentioned in the reference answer. The terms used in the answer are too vague and do not correspond to the detailed services listed in the reference answer.'}}\n",
      "23\n",
      "None\n",
      "24\n",
      "{'bleurt': 0.62, 'bert': [0.45, 0.44, 0.45], 'meteor': 0.41, 'judge': {'grade': 0.75, 'explanation': \"The answer is on topic, relevant to the question, and covers most of the services listed in the reference answer. However, it is incomplete as it misses two services: 'roadside lighting' and 'electric charging stations management'.\"}}\n",
      "25\n",
      "{'bleurt': 0.6, 'bert': [0.46, 0.64, 0.54], 'meteor': 0.45, 'judge': {'grade': 1.0, 'explanation': 'The answer is highly accurate and addresses the question completely. It lists all the services mentioned in the reference answer, including their respective codes.'}}\n",
      "26\n",
      "{'bleurt': 0.53, 'bert': [0.38, 0.58, 0.47], 'meteor': 0.36, 'judge': {'grade': 1.0, 'explanation': 'The answer is highly accurate, relevant, and effective. It addresses the question by listing all the relevant services that support sustainability initiatives, providing accurate descriptions for each service, and it matches perfectly the reference answer.'}}\n",
      "27\n",
      "{'bleurt': 0.54, 'bert': [0.42, 0.58, 0.49], 'meteor': 0.36, 'judge': {'grade': 0.75, 'explanation': 'The answer addresses the question and provides accurate information. However, it is incomplete as it does not mention the following services: roadside lighting, electric charging stations management, hov/hot lane management, and eco-approach and departure at signalized intersections.'}}\n",
      "28\n",
      "None\n",
      "29\n",
      "None\n"
     ]
    }
   ],
   "source": [
    "for i in range(len(scores)):\n",
    "    try:\n",
    "        print(i)\n",
    "        print(scores[f\"{i}\"])\n",
    "    except:\n",
    "        print(\"None\")\n",
    "        continue"
   ]
  }
 ],
 "metadata": {
  "kernelspec": {
   "display_name": "bleurt-env",
   "language": "python",
   "name": "python3"
  },
  "language_info": {
   "codemirror_mode": {
    "name": "ipython",
    "version": 3
   },
   "file_extension": ".py",
   "mimetype": "text/x-python",
   "name": "python",
   "nbconvert_exporter": "python",
   "pygments_lexer": "ipython3",
   "version": "3.10.8"
  }
 },
 "nbformat": 4,
 "nbformat_minor": 5
}
